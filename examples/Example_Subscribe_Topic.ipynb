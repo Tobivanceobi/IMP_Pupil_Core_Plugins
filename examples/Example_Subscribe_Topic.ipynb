{
 "cells": [
  {
   "cell_type": "code",
   "id": "initial_id",
   "metadata": {
    "collapsed": true,
    "ExecuteTime": {
     "end_time": "2024-11-23T19:14:30.972963Z",
     "start_time": "2024-11-23T19:14:30.190293Z"
    }
   },
   "source": [
    "import pprint\n",
    "import time\n",
    "\n",
    "import zmq\n",
    "from sympy.physics.units import current\n",
    "\n",
    "ctx = zmq.Context()\n",
    "# The REQ talks to Pupil remote and receives the session unique IPC SUB PORT\n",
    "socket = ctx.socket(zmq.REQ)\n",
    "\n",
    "ip = 'localhost'\n",
    "port = 50020\n",
    "\n",
    "socket.connect(f'tcp://{ip}:{port}')\n",
    "\n",
    "# Request 'SUB_PORT' for reading data\n",
    "socket.send_string('SUB_PORT')\n",
    "sub_port = socket.recv_string()\n",
    "\n",
    "# Request 'PUB_PORT' for writing data\n",
    "socket.send_string('PUB_PORT')\n",
    "pub_port = socket.recv_string()\n",
    "\n",
    "socket.close()"
   ],
   "outputs": [],
   "execution_count": 1
  },
  {
   "metadata": {
    "ExecuteTime": {
     "end_time": "2024-11-23T19:14:31.116669Z",
     "start_time": "2024-11-23T19:14:30.979528Z"
    }
   },
   "cell_type": "code",
   "source": [
    "import cv2\n",
    "import msgpack\n",
    "import pprint\n",
    "import numpy as np\n",
    "\n",
    "def create_socket(ctx_c, ip_c, topics):\n",
    "    sub = ctx_c.socket(zmq.SUB)\n",
    "    sub.connect(f'tcp://{ip_c}:{sub_port}')\n",
    "    for topic in topics:\n",
    "        sub.subscribe(topic)\n",
    "    return sub"
   ],
   "id": "3afe2dccfe5ec24f",
   "outputs": [],
   "execution_count": 2
  },
  {
   "metadata": {
    "ExecuteTime": {
     "end_time": "2024-11-23T19:14:35.916212Z",
     "start_time": "2024-11-23T19:14:31.369303Z"
    }
   },
   "cell_type": "code",
   "source": [
    "socket_sub = create_socket(ctx, ip, ['gaze_object'])\n",
    "curr = None\n",
    "for i in range(200):\n",
    "    topic = socket_sub.recv_string()\n",
    "    payload = socket_sub.recv()\n",
    "    msg = msgpack.unpackb(payload, raw=False)\n",
    "    if msg['object'] != curr:\n",
    "        curr = msg['object']\n",
    "        pprint.pprint(msg)\n",
    "    \n",
    "socket_sub.close()"
   ],
   "id": "d442ddb799920bc0",
   "outputs": [
    {
     "name": "stdout",
     "output_type": "stream",
     "text": [
      "{'id': 22,\n",
      " 'norm_pos': [0.4746750726027909, 0.6370779575216616],\n",
      " 'object': 'tv',\n",
      " 'timestamp': 17935.596627601,\n",
      " 'topic': 'gaze_object'}\n"
     ]
    },
    {
     "ename": "KeyboardInterrupt",
     "evalue": "",
     "output_type": "error",
     "traceback": [
      "\u001B[0;31m---------------------------------------------------------------------------\u001B[0m",
      "\u001B[0;31mKeyboardInterrupt\u001B[0m                         Traceback (most recent call last)",
      "Cell \u001B[0;32mIn[3], line 4\u001B[0m\n\u001B[1;32m      2\u001B[0m curr \u001B[38;5;241m=\u001B[39m \u001B[38;5;28;01mNone\u001B[39;00m\n\u001B[1;32m      3\u001B[0m \u001B[38;5;28;01mfor\u001B[39;00m i \u001B[38;5;129;01min\u001B[39;00m \u001B[38;5;28mrange\u001B[39m(\u001B[38;5;241m200\u001B[39m):\n\u001B[0;32m----> 4\u001B[0m     topic \u001B[38;5;241m=\u001B[39m \u001B[43msocket_sub\u001B[49m\u001B[38;5;241;43m.\u001B[39;49m\u001B[43mrecv_string\u001B[49m\u001B[43m(\u001B[49m\u001B[43m)\u001B[49m\n\u001B[1;32m      5\u001B[0m     payload \u001B[38;5;241m=\u001B[39m socket_sub\u001B[38;5;241m.\u001B[39mrecv()\n\u001B[1;32m      6\u001B[0m     msg \u001B[38;5;241m=\u001B[39m msgpack\u001B[38;5;241m.\u001B[39munpackb(payload, raw\u001B[38;5;241m=\u001B[39m\u001B[38;5;28;01mFalse\u001B[39;00m)\n",
      "File \u001B[0;32m~/Programme/pupil/.venv/lib/python3.8/site-packages/zmq/sugar/socket.py:931\u001B[0m, in \u001B[0;36mSocket.recv_string\u001B[0;34m(self, flags, encoding)\u001B[0m\n\u001B[1;32m    911\u001B[0m \u001B[38;5;28;01mdef\u001B[39;00m \u001B[38;5;21mrecv_string\u001B[39m(\u001B[38;5;28mself\u001B[39m, flags: \u001B[38;5;28mint\u001B[39m \u001B[38;5;241m=\u001B[39m \u001B[38;5;241m0\u001B[39m, encoding: \u001B[38;5;28mstr\u001B[39m \u001B[38;5;241m=\u001B[39m \u001B[38;5;124m'\u001B[39m\u001B[38;5;124mutf-8\u001B[39m\u001B[38;5;124m'\u001B[39m) \u001B[38;5;241m-\u001B[39m\u001B[38;5;241m>\u001B[39m \u001B[38;5;28mstr\u001B[39m:\n\u001B[1;32m    912\u001B[0m \u001B[38;5;250m    \u001B[39m\u001B[38;5;124;03m\"\"\"Receive a unicode string, as sent by send_string.\u001B[39;00m\n\u001B[1;32m    913\u001B[0m \n\u001B[1;32m    914\u001B[0m \u001B[38;5;124;03m    Parameters\u001B[39;00m\n\u001B[0;32m   (...)\u001B[0m\n\u001B[1;32m    929\u001B[0m \u001B[38;5;124;03m        for any of the reasons :func:`Socket.recv` might fail\u001B[39;00m\n\u001B[1;32m    930\u001B[0m \u001B[38;5;124;03m    \"\"\"\u001B[39;00m\n\u001B[0;32m--> 931\u001B[0m     msg \u001B[38;5;241m=\u001B[39m \u001B[38;5;28;43mself\u001B[39;49m\u001B[38;5;241;43m.\u001B[39;49m\u001B[43mrecv\u001B[49m\u001B[43m(\u001B[49m\u001B[43mflags\u001B[49m\u001B[38;5;241;43m=\u001B[39;49m\u001B[43mflags\u001B[49m\u001B[43m)\u001B[49m\n\u001B[1;32m    932\u001B[0m     \u001B[38;5;28;01mreturn\u001B[39;00m \u001B[38;5;28mself\u001B[39m\u001B[38;5;241m.\u001B[39m_deserialize(msg, \u001B[38;5;28;01mlambda\u001B[39;00m buf: buf\u001B[38;5;241m.\u001B[39mdecode(encoding))\n",
      "File \u001B[0;32m_zmq.py:1156\u001B[0m, in \u001B[0;36mzmq.backend.cython._zmq.Socket.recv\u001B[0;34m()\u001B[0m\n",
      "File \u001B[0;32m_zmq.py:1191\u001B[0m, in \u001B[0;36mzmq.backend.cython._zmq.Socket.recv\u001B[0;34m()\u001B[0m\n",
      "File \u001B[0;32m_zmq.py:1278\u001B[0m, in \u001B[0;36mzmq.backend.cython._zmq._recv_copy\u001B[0;34m()\u001B[0m\n",
      "File \u001B[0;32m_zmq.py:160\u001B[0m, in \u001B[0;36mzmq.backend.cython._zmq._check_rc\u001B[0;34m()\u001B[0m\n",
      "\u001B[0;31mKeyboardInterrupt\u001B[0m: "
     ]
    }
   ],
   "execution_count": 3
  },
  {
   "metadata": {
    "ExecuteTime": {
     "end_time": "2024-11-23T19:15:16.100313Z",
     "start_time": "2024-11-23T19:14:38.278506Z"
    }
   },
   "cell_type": "code",
   "source": [
    "socket_sub = create_socket(ctx, ip, ['gaze_gesture'])\n",
    "for i in range(10):\n",
    "    topic = socket_sub.recv_string()\n",
    "    payload = socket_sub.recv()\n",
    "    msg = msgpack.unpackb(payload, raw=False)\n",
    "    pprint.pprint(msg)\n",
    "    \n",
    "socket_sub.close()"
   ],
   "id": "6da688a346cce62",
   "outputs": [
    {
     "name": "stdout",
     "output_type": "stream",
     "text": [
      "{'direction': 'right',\n",
      " 'object': 'tv',\n",
      " 'timestamp': 17943.101722421,\n",
      " 'topic': 'gaze_gesture'}\n",
      "{'direction': 'right',\n",
      " 'object': 'potted plant',\n",
      " 'timestamp': 17950.14124278,\n",
      " 'topic': 'gaze_gesture'}\n",
      "{'direction': 'left',\n",
      " 'object': 'potted plant',\n",
      " 'timestamp': 17954.231510104,\n",
      " 'topic': 'gaze_gesture'}\n",
      "{'direction': 'left',\n",
      " 'object': 'tv',\n",
      " 'timestamp': 17958.388130556,\n",
      " 'topic': 'gaze_gesture'}\n",
      "{'direction': 'right',\n",
      " 'object': 'bottle',\n",
      " 'timestamp': 17963.309629604,\n",
      " 'topic': 'gaze_gesture'}\n",
      "{'direction': 'left',\n",
      " 'object': 'tv',\n",
      " 'timestamp': 17971.589566456,\n",
      " 'topic': 'gaze_gesture'}\n",
      "{'direction': 'up',\n",
      " 'object': 'tv',\n",
      " 'timestamp': 17973.938783234,\n",
      " 'topic': 'gaze_gesture'}\n",
      "{'direction': 'down',\n",
      " 'object': 'tv',\n",
      " 'timestamp': 17975.344193472,\n",
      " 'topic': 'gaze_gesture'}\n"
     ]
    },
    {
     "ename": "KeyboardInterrupt",
     "evalue": "",
     "output_type": "error",
     "traceback": [
      "\u001B[0;31m---------------------------------------------------------------------------\u001B[0m",
      "\u001B[0;31mKeyboardInterrupt\u001B[0m                         Traceback (most recent call last)",
      "Cell \u001B[0;32mIn[4], line 3\u001B[0m\n\u001B[1;32m      1\u001B[0m socket_sub \u001B[38;5;241m=\u001B[39m create_socket(ctx, ip, [\u001B[38;5;124m'\u001B[39m\u001B[38;5;124mgaze_gesture\u001B[39m\u001B[38;5;124m'\u001B[39m])\n\u001B[1;32m      2\u001B[0m \u001B[38;5;28;01mfor\u001B[39;00m i \u001B[38;5;129;01min\u001B[39;00m \u001B[38;5;28mrange\u001B[39m(\u001B[38;5;241m10\u001B[39m):\n\u001B[0;32m----> 3\u001B[0m     topic \u001B[38;5;241m=\u001B[39m \u001B[43msocket_sub\u001B[49m\u001B[38;5;241;43m.\u001B[39;49m\u001B[43mrecv_string\u001B[49m\u001B[43m(\u001B[49m\u001B[43m)\u001B[49m\n\u001B[1;32m      4\u001B[0m     payload \u001B[38;5;241m=\u001B[39m socket_sub\u001B[38;5;241m.\u001B[39mrecv()\n\u001B[1;32m      5\u001B[0m     msg \u001B[38;5;241m=\u001B[39m msgpack\u001B[38;5;241m.\u001B[39munpackb(payload, raw\u001B[38;5;241m=\u001B[39m\u001B[38;5;28;01mFalse\u001B[39;00m)\n",
      "File \u001B[0;32m~/Programme/pupil/.venv/lib/python3.8/site-packages/zmq/sugar/socket.py:931\u001B[0m, in \u001B[0;36mSocket.recv_string\u001B[0;34m(self, flags, encoding)\u001B[0m\n\u001B[1;32m    911\u001B[0m \u001B[38;5;28;01mdef\u001B[39;00m \u001B[38;5;21mrecv_string\u001B[39m(\u001B[38;5;28mself\u001B[39m, flags: \u001B[38;5;28mint\u001B[39m \u001B[38;5;241m=\u001B[39m \u001B[38;5;241m0\u001B[39m, encoding: \u001B[38;5;28mstr\u001B[39m \u001B[38;5;241m=\u001B[39m \u001B[38;5;124m'\u001B[39m\u001B[38;5;124mutf-8\u001B[39m\u001B[38;5;124m'\u001B[39m) \u001B[38;5;241m-\u001B[39m\u001B[38;5;241m>\u001B[39m \u001B[38;5;28mstr\u001B[39m:\n\u001B[1;32m    912\u001B[0m \u001B[38;5;250m    \u001B[39m\u001B[38;5;124;03m\"\"\"Receive a unicode string, as sent by send_string.\u001B[39;00m\n\u001B[1;32m    913\u001B[0m \n\u001B[1;32m    914\u001B[0m \u001B[38;5;124;03m    Parameters\u001B[39;00m\n\u001B[0;32m   (...)\u001B[0m\n\u001B[1;32m    929\u001B[0m \u001B[38;5;124;03m        for any of the reasons :func:`Socket.recv` might fail\u001B[39;00m\n\u001B[1;32m    930\u001B[0m \u001B[38;5;124;03m    \"\"\"\u001B[39;00m\n\u001B[0;32m--> 931\u001B[0m     msg \u001B[38;5;241m=\u001B[39m \u001B[38;5;28;43mself\u001B[39;49m\u001B[38;5;241;43m.\u001B[39;49m\u001B[43mrecv\u001B[49m\u001B[43m(\u001B[49m\u001B[43mflags\u001B[49m\u001B[38;5;241;43m=\u001B[39;49m\u001B[43mflags\u001B[49m\u001B[43m)\u001B[49m\n\u001B[1;32m    932\u001B[0m     \u001B[38;5;28;01mreturn\u001B[39;00m \u001B[38;5;28mself\u001B[39m\u001B[38;5;241m.\u001B[39m_deserialize(msg, \u001B[38;5;28;01mlambda\u001B[39;00m buf: buf\u001B[38;5;241m.\u001B[39mdecode(encoding))\n",
      "File \u001B[0;32m_zmq.py:1156\u001B[0m, in \u001B[0;36mzmq.backend.cython._zmq.Socket.recv\u001B[0;34m()\u001B[0m\n",
      "File \u001B[0;32m_zmq.py:1191\u001B[0m, in \u001B[0;36mzmq.backend.cython._zmq.Socket.recv\u001B[0;34m()\u001B[0m\n",
      "File \u001B[0;32m_zmq.py:1278\u001B[0m, in \u001B[0;36mzmq.backend.cython._zmq._recv_copy\u001B[0;34m()\u001B[0m\n",
      "File \u001B[0;32m_zmq.py:160\u001B[0m, in \u001B[0;36mzmq.backend.cython._zmq._check_rc\u001B[0;34m()\u001B[0m\n",
      "\u001B[0;31mKeyboardInterrupt\u001B[0m: "
     ]
    }
   ],
   "execution_count": 4
  },
  {
   "metadata": {},
   "cell_type": "code",
   "source": "",
   "id": "24407dc37aa25f08",
   "outputs": [],
   "execution_count": null
  },
  {
   "metadata": {},
   "cell_type": "code",
   "source": "",
   "id": "d9e35311998e0c0f",
   "outputs": [],
   "execution_count": null
  }
 ],
 "metadata": {
  "kernelspec": {
   "display_name": "Python 3",
   "language": "python",
   "name": "python3"
  },
  "language_info": {
   "codemirror_mode": {
    "name": "ipython",
    "version": 2
   },
   "file_extension": ".py",
   "mimetype": "text/x-python",
   "name": "python",
   "nbconvert_exporter": "python",
   "pygments_lexer": "ipython2",
   "version": "2.7.6"
  }
 },
 "nbformat": 4,
 "nbformat_minor": 5
}
